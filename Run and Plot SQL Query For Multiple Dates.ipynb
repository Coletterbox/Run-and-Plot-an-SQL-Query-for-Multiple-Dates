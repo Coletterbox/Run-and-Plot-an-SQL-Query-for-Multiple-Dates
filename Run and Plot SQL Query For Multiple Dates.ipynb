{
 "cells": [
  {
   "cell_type": "markdown",
   "metadata": {},
   "source": [
    "# RUNNING AND PLOTTING A QUERY FOR MULTIPLE DATES"
   ]
  },
  {
   "cell_type": "code",
   "execution_count": 2,
   "metadata": {},
   "outputs": [],
   "source": [
    "import matplotlib\n",
    "import numpy as np\n",
    "import matplotlib.pyplot as plt\n",
    "import pandas_gbq"
   ]
  },
  {
   "cell_type": "markdown",
   "metadata": {},
   "source": [
    "## Set these:"
   ]
  },
  {
   "cell_type": "code",
   "execution_count": null,
   "metadata": {},
   "outputs": [],
   "source": [
    "project_id = \"\"\n",
    "sql = \"\""
   ]
  },
  {
   "cell_type": "code",
   "execution_count": 3,
   "metadata": {},
   "outputs": [
    {
     "name": "stderr",
     "output_type": "stream",
     "text": [
      "Downloading: 100%|██████████| 10/10 [00:00<00:00, 41.37rows/s]\n"
     ]
    }
   ],
   "source": [
    "# Connecting to BigQuery\n",
    "df = pandas_gbq.read_gbq(sql, project_id=project_id)"
   ]
  },
  {
   "cell_type": "code",
   "execution_count": 4,
   "metadata": {},
   "outputs": [],
   "source": [
    "def build_query(query, date_as_string):\n",
    "    return query.format(date = date_as_string)"
   ]
  },
  {
   "cell_type": "code",
   "execution_count": 5,
   "metadata": {},
   "outputs": [],
   "source": [
    "def add_leading_zero(month_or_day):\n",
    "    if len(month_or_day) == 1:\n",
    "        month_or_day = '0' + month_or_day\n",
    "    return month_or_day"
   ]
  },
  {
   "cell_type": "code",
   "execution_count": 6,
   "metadata": {},
   "outputs": [],
   "source": [
    "# only designed for valid dates\n",
    "def add_one_to_date(date_as_string):\n",
    "    # TODO: deal with leap years (year%4=0 && year%100!=0 or something)\n",
    "    new_date_as_string = ''\n",
    "    days_in_month = {\n",
    "        '01':31,\n",
    "        '02':28,\n",
    "        '03':31,\n",
    "        '04':30,\n",
    "        '05':31,\n",
    "        '06':30,\n",
    "        '07':31,\n",
    "        '08':31,\n",
    "        '09':30,\n",
    "        '10':31,\n",
    "        '11':30,\n",
    "        '12':31\n",
    "    }\n",
    "    year = date_as_string[0:4]\n",
    "#     print(\"Year: \" + year)\n",
    "    month = date_as_string[4:6]\n",
    "#     print(\"Month: \" + month)\n",
    "    day = date_as_string[6:8]\n",
    "#     print(\"Day: \" + day)\n",
    "    # if it's not the last day in the month\n",
    "    if int(day) < days_in_month[month]:\n",
    "        day = add_leading_zero(str(int(day) + 1))\n",
    "        new_date_as_string = year + month + day\n",
    "    # if it's the last day in the month and it's not the last month\n",
    "    elif (int(day) == days_in_month[month]) and (month != '12'):\n",
    "        month = add_leading_zero(str(int(month) + 1))\n",
    "        day = '01'\n",
    "        new_date_as_string = year + month + day\n",
    "    # if it's the last day of the month and it's the last month   \n",
    "    elif (int(day) == days_in_month[month]) and (month == '12'):\n",
    "        year = add_leading_zero(str(int(year) + 1))\n",
    "        month = '01'\n",
    "        day = '01'\n",
    "        new_date_as_string = year + month + day\n",
    "    else:\n",
    "        print(\"???\")\n",
    "    return new_date_as_string"
   ]
  },
  {
   "cell_type": "code",
   "execution_count": 8,
   "metadata": {},
   "outputs": [],
   "source": [
    "def create_date_list(start_date, end_date):\n",
    "#     example start date: '20210114'; end date could be current date\n",
    "    date_list = []\n",
    "    if start_date == end_date:\n",
    "        date_list.append(start_date)\n",
    "    while start_date != end_date:\n",
    "        date_list.append(start_date)\n",
    "        start_date = add_one_to_date(start_date)\n",
    "    return date_list"
   ]
  },
  {
   "cell_type": "code",
   "execution_count": 10,
   "metadata": {},
   "outputs": [],
   "source": [
    "def iterate_through_dates(start_date, end_date, query):\n",
    "    date_list = create_date_list(start_date, end_date)\n",
    "    query_list = []\n",
    "    for date in date_list:\n",
    "        query_list.append(build_query(query, date))\n",
    "    return query_list"
   ]
  },
  {
   "cell_type": "code",
   "execution_count": 16,
   "metadata": {},
   "outputs": [],
   "source": [
    "def plot_bar_graph(query, x_axis, y_axis, color):\n",
    "    df = pandas_gbq.read_gbq(query, project_id=project_id)\n",
    "    df.plot.bar(x=x_axis, y=y_axis, color=color)"
   ]
  },
  {
   "cell_type": "code",
   "execution_count": 17,
   "metadata": {},
   "outputs": [],
   "source": [
    "def query_to_bar_graphs(query, start_date, end_date, x_axis, y_axis, color):\n",
    "    query_list = iterate_through_dates(start_date, end_date, query)\n",
    "    for query in query_list:\n",
    "        plot_bar_graph(query, x_axis, y_axis, color)"
   ]
  },
  {
   "cell_type": "code",
   "execution_count": 30,
   "metadata": {},
   "outputs": [],
   "source": [
    "def query_to_tables(query, start_date, end_date):\n",
    "    query_list = iterate_through_dates(start_date, end_date, query)\n",
    "    for query in query_list:\n",
    "        print(pandas_gbq.read_gbq(query, project_id=project_id))"
   ]
  },
  {
   "cell_type": "code",
   "execution_count": 48,
   "metadata": {},
   "outputs": [],
   "source": [
    "# make table of element_count over time for a given event\n",
    "def query_to_element_count_over_time(query, start_date, end_date, index):\n",
    "    query_list = iterate_through_dates(start_date, end_date, query)\n",
    "#     row_list = []\n",
    "    element_count_array = []\n",
    "    for query in query_list:\n",
    "        df = pandas_gbq.read_gbq(query, project_id=project_id)\n",
    "        print(df)\n",
    "        element_count_array.append(df.iloc[index]['element_count'])\n",
    "    print(element_count_array)\n",
    "    return element_count_array\n",
    "        \n",
    "#         row = df.iloc[index, :]\n",
    "#         row_list.append(row)\n",
    "#     print(row_list)\n",
    "#     return row_list"
   ]
  },
  {
   "cell_type": "code",
   "execution_count": 38,
   "metadata": {},
   "outputs": [],
   "source": [
    "def plot_line_graph(query, x_axis, y_axis, color):\n",
    "    df = pandas_gbq.read_gbq(query, project_id=project_id)\n",
    "    df.plot.line(x=x_axis, y=y_axis, color=color)"
   ]
  },
  {
   "cell_type": "code",
   "execution_count": 64,
   "metadata": {},
   "outputs": [],
   "source": [
    "def query_to_element_count_graph_over_time(query, start_date, end_date, index, color):\n",
    "    element_count_list = query_to_element_count_over_time(query, start_date, end_date, index)\n",
    "#     checking that the plotting is correct\n",
    "#     element_count_list = [145015098, 0, 126753792, 0, 110191447, 0, 92114747]\n",
    "    \n",
    "#     todo: find event_name and/or element by index\n",
    "#     x_axis = \"event_name\"\n",
    "#     y_axis = element_count_list\n",
    "#     plot_line_graph(query, x_axis, y_axis, color)\n",
    "\n",
    "#     todo: fix dates\n",
    "#     x = np.arange(int(start_date), int(end_date))\n",
    "    \n",
    "#     todo: fix\n",
    "#     x = np.arange(1, 8)\n",
    "    x = np.array(create_date_list(start_date, end_date))\n",
    "\n",
    "    y = np.array(element_count_list)\n",
    "    plt.title(\"element_count over time\")\n",
    "    plt.xlabel(\"date\")\n",
    "    plt.ylabel(\"element_count\")\n",
    "    plt.plot(x, y, color=color)\n",
    "    plt.show()"
   ]
  }
 ],
 "metadata": {
  "kernelspec": {
   "display_name": "Python 3",
   "language": "python",
   "name": "python3"
  },
  "language_info": {
   "codemirror_mode": {
    "name": "ipython",
    "version": 3
   },
   "file_extension": ".py",
   "mimetype": "text/x-python",
   "name": "python",
   "nbconvert_exporter": "python",
   "pygments_lexer": "ipython3",
   "version": "3.8.5"
  }
 },
 "nbformat": 4,
 "nbformat_minor": 4
}
